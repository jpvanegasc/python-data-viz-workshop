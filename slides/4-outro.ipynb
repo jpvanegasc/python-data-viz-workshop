{
 "cells": [
  {
   "cell_type": "markdown",
   "id": "0b8f6d58-bbfa-416c-9b45-c7996e741e9b",
   "metadata": {
    "slideshow": {
     "slide_type": "slide"
    },
    "tags": [
     "id_fin"
    ]
   },
   "source": [
    "# Thank you!\n",
    "\n",
    "*I hope you enjoyed the session. You can follow my work on the following platforms:*\n",
    "\n",
    "<div style=\"display: flex; justify-content: space-between; align-items: center;\">\n",
    "    <div style=\"text-align: center; flex-basis: auto; flex-shrink: 2;\">\n",
    "        <img class=\"qr-code\" width=\"20%\" src=\"https://raw.githubusercontent.com/stefmolin/python-data-viz-workshop/main/media/qr-code.png\">\n",
    "    </div>\n",
    "\n",
    "<div style=\"flex-basis: 45em; flex-grow: 2; font-size: 80%;\">\n",
    "    <div style=\"display: flex; justify-content: flex-start; align-items: center;\">\n",
    "      <i class=\"fa fa-globe fa-2x fa-fw\" style=\"padding-right: 4px\"></i>\n",
    "      <a href=\"https://stefaniemolin.com\" rel=\"noopener noreferrer\" style=\"font-size: 2em;\">\n",
    "        stefaniemolin.com\n",
    "      </a>\n",
    "    </div>\n",
    "  <div style=\"display: flex; justify-content: flex-start; align-items: center;\">\n",
    "    <i class=\"fab fa-github fa-2x fa-fw\" style=\"padding-right: 4px\"></i>\n",
    "    <a href=\"https://github.com/stefmolin\" rel=\"noopener noreferrer\" style=\"font-size: 2em;\" target=\"_blank\">\n",
    "      github.com/stefmolin\n",
    "    </a>\n",
    "  </div>\n",
    "  <div style=\"display: flex; justify-content: flex-start; align-items: center;\">\n",
    "    <i class=\"fab fa-twitter fa-2x fa-fw\" style=\"padding-right: 4px\"></i>\n",
    "    <a href=\"https://twitter.com/StefanieMolin\" rel=\"noopener noreferrer\" style=\"font-size: 2em;\" target=\"_blank\">\n",
    "      twitter.com/StefanieMolin\n",
    "    </a>\n",
    "  </div>\n",
    "  <div style=\"display: flex; justify-content: flex-start; align-items: center;\">\n",
    "    <i class=\"fab fa-linkedin-in fa-2x fa-fw\" style=\"padding-right: 4px\"></i>\n",
    "    <a href=\"https://linkedin.com/in/stefanie-molin\" rel=\"noopener noreferrer\" style=\"font-size: 2em;\" target=\"_blank\">\n",
    "      linkedin.com/in/stefanie-molin\n",
    "    </a>\n",
    "  </div>\n",
    "</div>\n",
    "</div>"
   ]
  }
 ],
 "metadata": {
  "kernelspec": {
   "display_name": "Python 3 (ipykernel)",
   "language": "python",
   "name": "python3"
  },
  "language_info": {
   "codemirror_mode": {
    "name": "ipython",
    "version": 3
   },
   "file_extension": ".py",
   "mimetype": "text/x-python",
   "name": "python",
   "nbconvert_exporter": "python",
   "pygments_lexer": "ipython3",
   "version": "3.10.10"
  }
 },
 "nbformat": 4,
 "nbformat_minor": 5
}
